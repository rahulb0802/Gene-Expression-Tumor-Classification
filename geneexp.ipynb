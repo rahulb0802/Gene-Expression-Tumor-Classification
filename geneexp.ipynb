{
 "cells": [
  {
   "cell_type": "markdown",
   "id": "aa0ef9ef-6ace-44ba-bd60-e59b390c4307",
   "metadata": {},
   "source": [
    "# Using Gene Expression Data to predict tumor types based on gene expression data (2308 genes)"
   ]
  },
  {
   "cell_type": "markdown",
   "id": "19c3d32d-14ed-4b83-a104-c85f3ca0ce64",
   "metadata": {},
   "source": [
    "#### Data consists of a number of tissue samples corresponding to four distinct types of small round blue cell tumors. For each tissue sample, 2308 gene expression measurements are available."
   ]
  },
  {
   "cell_type": "code",
   "execution_count": 40,
   "id": "0c9e3710-6f8f-440c-859a-8d2a8b861684",
   "metadata": {},
   "outputs": [],
   "source": [
    "import numpy as np\n",
    "from matplotlib.pyplot import subplots, cm\n",
    "import sklearn.model_selection as skm\n",
    "from ISLP import load_data, confusion_table\n",
    "from sklearn.svm import SVC\n",
    "from ISLP.svm import plot as plot_svm\n",
    "from sklearn.metrics import RocCurveDisplay"
   ]
  },
  {
   "cell_type": "code",
   "execution_count": 41,
   "id": "b55b178f-387b-42c2-a56c-638785af2b68",
   "metadata": {},
   "outputs": [],
   "source": [
    "roc_curve = RocCurveDisplay.from_estimator"
   ]
  },
  {
   "cell_type": "code",
   "execution_count": 42,
   "id": "816ab869-3f7d-4d0f-bfe2-14d3f7342343",
   "metadata": {},
   "outputs": [
    {
     "data": {
      "text/plain": [
       "{'xtest':        G0001     G0002     G0003     G0004     G0005     G0006     G0007  \\\n",
       " 0   0.139501 -1.168927  0.564973 -3.366796 -1.323132 -0.692547  2.327395   \n",
       " 1   1.164275 -2.018158  1.103533 -2.165435 -1.440117 -0.437420  2.661587   \n",
       " 2   0.841093  0.254720 -0.208748 -2.148149 -1.512765 -1.263723  2.946642   \n",
       " 3   0.685065 -1.927579 -0.233068 -1.640413 -1.008954  0.774451  1.617168   \n",
       " 4  -1.956163 -2.234926  0.281563 -2.695628 -1.214697 -1.059872  2.498070   \n",
       " 5  -0.258641 -1.684700  0.175800 -2.323809 -1.692276 -0.008637  2.302135   \n",
       " 6  -1.109875 -1.046969 -0.853786 -2.607752 -1.770781 -1.259133  1.426380   \n",
       " 7   1.471485 -1.751578 -0.256700 -1.899122 -1.364924 -1.198654  2.489878   \n",
       " 8  -0.396159 -1.191386  0.696691 -1.862397 -1.312672  0.744980  1.762708   \n",
       " 9  -2.136224 -2.236797 -0.946492 -2.777400 -1.822631 -0.455233  2.547514   \n",
       " 10 -0.190676 -1.513219  0.824439 -2.391416 -1.112610  0.591945  2.101032   \n",
       " 11  1.321409  0.495367  0.041526 -1.541779 -1.627093 -1.184170  2.187814   \n",
       " 12 -1.682009 -2.439551  0.684813 -2.102096 -1.694996 -0.911801  1.682205   \n",
       " 13 -0.332261 -2.200029 -0.463465 -2.600991 -1.204640 -1.030019  1.969194   \n",
       " 14  1.111232 -1.981952  0.223543 -1.465771 -1.203306  1.506186  1.584551   \n",
       " 15  0.648725 -1.386694 -0.562645 -2.006191 -1.098112  0.944645  1.994564   \n",
       " 16 -0.271415 -1.125470 -1.538048 -2.649310 -1.148538 -0.355390  1.811693   \n",
       " 17 -0.445818 -1.380312  0.299289 -2.739541 -1.468807  0.991658  2.057784   \n",
       " 18  0.259437 -0.782634 -1.277978 -1.889813 -0.659132  0.587620  1.427556   \n",
       " 19 -0.192493 -1.063052  0.203186 -2.058072 -1.285906  0.663821  2.358871   \n",
       " \n",
       "        G0008     G0009     G0010  ...     G2299     G2300     G2301     G2302  \\\n",
       " 0   0.923703  0.112167  0.509765  ... -0.180803 -0.942635 -1.210662 -0.588787   \n",
       " 1   1.224011  0.210504  1.045563  ... -0.709480 -1.532940 -2.385967 -0.389641   \n",
       " 2   0.087828  0.482920  1.063020  ... -0.067958 -1.854060 -1.541312 -1.773723   \n",
       " 3  -0.567925  0.036621 -0.101701  ...  1.077559 -0.263966 -1.966113 -1.086190   \n",
       " 4   0.780196  1.041583  0.727500  ... -1.209320 -0.693147 -1.846427 -0.993442   \n",
       " 5   0.455778 -0.342490  0.716522  ... -2.049494 -1.223835 -1.140372 -0.952436   \n",
       " 6  -0.743599  0.613129 -0.533071  ... -0.963120 -1.016940 -0.991553 -0.643405   \n",
       " 7  -0.035006  0.833474  0.779279  ... -0.000900 -1.020263 -1.599488 -2.273998   \n",
       " 8   1.034038  0.802943  0.953471  ... -1.104429 -0.955811 -0.438505 -0.845366   \n",
       " 9  -0.270366  1.437866  0.543777  ... -1.552585 -0.649513 -1.159318 -0.809456   \n",
       " 10  0.405532  0.545111  0.586953  ... -0.167472 -1.143191  0.014002 -0.831950   \n",
       " 11  0.474245  0.340322  1.143394  ...  0.022348 -1.136626 -0.798285 -0.752473   \n",
       " 12  0.467124  0.684359  0.481685  ... -1.884533 -0.651621 -1.065952 -0.742758   \n",
       " 13 -0.244750  0.319326  0.443210  ... -0.727739 -0.187173 -1.719811 -0.757366   \n",
       " 14  0.415679  0.114845  0.630474  ...  0.487414 -0.128857 -1.206977 -0.934200   \n",
       " 15  0.295873  0.560986  0.342809  ... -0.084469 -0.543693 -1.868857 -1.135069   \n",
       " 16  0.344440  0.339895  1.169443  ... -0.307477 -1.137873 -0.962073 -0.592036   \n",
       " 17  0.295055  0.766955  0.466309  ... -0.546626 -1.763172 -0.375421 -1.492099   \n",
       " 18 -0.237877 -0.007327  0.003793  ... -1.112610 -0.869169 -1.705398 -0.854255   \n",
       " 19  0.304318  0.978514 -0.085231  ...  0.452667 -2.149006 -0.113953 -1.994365   \n",
       " \n",
       "        G2303     G2304     G2305     G2306     G2307     V2308  \n",
       " 0  -0.070422 -2.783852 -2.840439 -1.160913 -0.343054 -0.055513  \n",
       " 1   0.422781 -2.816750 -2.422495 -1.722607 -1.703749 -1.699910  \n",
       " 2  -1.879935 -2.265289 -2.405726 -0.176379 -0.128743 -0.996417  \n",
       " 3   0.885914 -0.248590  0.385874 -0.508163 -0.626985 -0.699366  \n",
       " 4  -3.294138 -3.332605 -2.282782 -0.656622 -2.012157 -1.668657  \n",
       " 5   0.294012 -1.205307 -1.457576 -0.655081 -0.060493 -0.980563  \n",
       " 6  -2.323809 -1.435485 -0.484995  0.479335 -1.006489 -0.778487  \n",
       " 7  -0.559141 -1.985587 -1.044124 -1.064211 -1.179605 -0.499556  \n",
       " 8  -0.372659  0.059118 -1.209320 -0.220148  0.452031 -1.119325  \n",
       " 9  -2.993734 -2.431555 -0.589148 -0.790319 -0.536485 -1.935168  \n",
       " 10 -0.484184 -0.234963 -0.935728  0.018233  0.316051 -0.800064  \n",
       " 11 -1.789163 -1.421300 -2.144727 -0.961550 -0.141333 -0.766148  \n",
       " 12 -2.815079 -2.241490 -1.808499 -1.409768 -0.850035 -1.557320  \n",
       " 13  0.389065 -0.705220 -1.263015 -0.907083 -0.415819 -1.910543  \n",
       " 14 -1.909868 -2.064356 -1.025827 -0.966006 -0.707652 -0.837711  \n",
       " 15 -0.991284 -1.053543 -1.175709 -1.334841 -0.511826 -1.323132  \n",
       " 16 -1.977607 -1.232715 -1.881903  0.061283  0.556926 -0.835402  \n",
       " 17 -0.467287 -0.982965 -0.991284  0.209612 -0.194313 -1.136626  \n",
       " 18 -1.893128 -1.461880 -1.702650 -1.393520 -1.011976 -1.160913  \n",
       " 19 -0.659906 -0.721341 -1.907170  0.160587 -0.349274 -1.273323  \n",
       " \n",
       " [20 rows x 2308 columns],\n",
       " 'xtrain':        G0001     G0002     G0003     G0004     G0005     G0006     G0007  \\\n",
       " 0   0.773344 -2.438405 -0.482562 -2.721135 -1.217058  0.827809  1.342604   \n",
       " 1  -0.078178 -2.415754  0.412772 -2.825146 -0.626236  0.054488  1.429498   \n",
       " 2  -0.084469 -1.649739 -0.241308 -2.875286 -0.889405 -0.027474  1.159300   \n",
       " 3   0.965614 -2.380547  0.625297 -1.741256 -0.845366  0.949687  1.093801   \n",
       " 4   0.075664 -1.728785  0.852626  0.272695 -1.841370  0.327936  1.251219   \n",
       " ..       ...       ...       ...       ...       ...       ...       ...   \n",
       " 58 -2.683846 -2.117767 -0.523236 -2.174192 -0.448947  0.543022  1.338731   \n",
       " 59 -1.207646 -2.478130  0.094310  0.273456 -1.113218 -0.283690  1.105985   \n",
       " 60 -1.684161 -2.053384  0.563835  0.314446 -2.052605 -0.630172  1.570967   \n",
       " 61 -2.258568 -2.308603 -1.443076  0.233094 -1.779633 -0.030665  1.532665   \n",
       " 62 -1.146333 -3.007805 -0.029326  0.237835 -2.859455  0.042293  1.318417   \n",
       " \n",
       "        G0008     G0009     G0010  ...     G2299     G2300     G2301     G2302  \\\n",
       " 0   0.057042  0.133569  0.565427  ... -0.238511 -0.027474 -1.660205  0.588231   \n",
       " 1  -0.120249  0.456792  0.159053  ... -0.657394 -0.246284 -0.836325 -0.571284   \n",
       " 2   0.015676  0.191942  0.496585  ... -0.696352  0.024985 -1.059872 -0.403767   \n",
       " 3   0.819736 -0.284620  0.994732  ...  0.259746  0.357115 -1.893128  0.255107   \n",
       " 4   0.771450  0.030917  0.278313  ... -0.200404  0.061753 -2.273998 -0.039365   \n",
       " ..       ...       ...       ...  ...       ...       ...       ...       ...   \n",
       " 58  0.194250  0.599276  0.637370  ... -1.681471 -1.036765 -0.422204 -1.400799   \n",
       " 59  0.801284  0.381582  0.714811  ... -0.929629 -0.258512 -1.482365 -0.827136   \n",
       " 60  0.137324  1.036985  0.973654  ... -0.537683 -0.497909 -0.477552 -1.427950   \n",
       " 61 -0.408419  0.795162  0.376242  ... -2.276917 -0.245517 -0.815315 -1.288079   \n",
       " 62 -0.540426  0.183071  0.503438  ... -1.711471 -0.088503  0.210180 -1.041004   \n",
       " \n",
       "        G2303     G2304     G2305     G2306     G2307     V2308  \n",
       " 0  -0.463624 -3.952845 -5.496768 -1.414282 -0.647600 -1.763172  \n",
       " 1   0.034788 -2.478130 -3.661264 -1.093923 -1.209320 -0.824395  \n",
       " 2  -0.678653 -2.939352 -2.736450 -1.965399 -0.805868 -1.139434  \n",
       " 3   0.163309 -1.021929 -2.077843 -1.127629  0.331531 -2.179483  \n",
       " 4   0.368801 -2.566551 -1.675044 -1.082050 -0.965218 -1.836966  \n",
       " ..       ...       ...       ...       ...       ...       ...  \n",
       " 58 -2.831914 -4.667046 -2.354932 -1.220102 -0.435100 -1.444771  \n",
       " 59 -1.543182 -1.549755 -0.532730 -1.759099  0.570471 -2.232127  \n",
       " 60 -1.928955 -2.544657 -1.080576 -1.382302 -0.804973 -1.318262  \n",
       " 61 -2.835316 -2.169804 -0.630172 -0.870839 -0.315533 -1.326140  \n",
       " 62 -2.145581 -2.905892 -0.862987 -1.115962 -0.783729 -1.339411  \n",
       " \n",
       " [63 rows x 2308 columns],\n",
       " 'ytest': 0     3\n",
       " 1     2\n",
       " 2     4\n",
       " 3     2\n",
       " 4     1\n",
       " 5     3\n",
       " 6     4\n",
       " 7     2\n",
       " 8     3\n",
       " 9     1\n",
       " 10    3\n",
       " 11    4\n",
       " 12    1\n",
       " 13    2\n",
       " 14    2\n",
       " 15    2\n",
       " 16    4\n",
       " 17    3\n",
       " 18    4\n",
       " 19    3\n",
       " Name: Y, dtype: int64,\n",
       " 'ytrain': 0     2\n",
       " 1     2\n",
       " 2     2\n",
       " 3     2\n",
       " 4     2\n",
       "      ..\n",
       " 58    1\n",
       " 59    1\n",
       " 60    1\n",
       " 61    1\n",
       " 62    1\n",
       " Name: Y, Length: 63, dtype: int64}"
      ]
     },
     "execution_count": 42,
     "metadata": {},
     "output_type": "execute_result"
    }
   ],
   "source": [
    "Khan = load_data('Khan')\n",
    "Khan"
   ]
  },
  {
   "cell_type": "markdown",
   "id": "5e3cc5de-e421-4189-968e-a1ba91877776",
   "metadata": {},
   "source": [
    "## Fitting support vector classifier using $C=0.01$"
   ]
  },
  {
   "cell_type": "markdown",
   "id": "91b28633-5443-477b-93c5-6947985eeb3a",
   "metadata": {},
   "source": [
    "Since number of predictors is much greater than the number of observations, we can assume that the decision boundary will be a linear hyperplane"
   ]
  },
  {
   "cell_type": "code",
   "execution_count": 43,
   "id": "77ad80a1-f28b-49be-b11d-f1b61d6771dd",
   "metadata": {},
   "outputs": [
    {
     "data": {
      "text/html": [
       "<div>\n",
       "<style scoped>\n",
       "    .dataframe tbody tr th:only-of-type {\n",
       "        vertical-align: middle;\n",
       "    }\n",
       "\n",
       "    .dataframe tbody tr th {\n",
       "        vertical-align: top;\n",
       "    }\n",
       "\n",
       "    .dataframe thead th {\n",
       "        text-align: right;\n",
       "    }\n",
       "</style>\n",
       "<table border=\"1\" class=\"dataframe\">\n",
       "  <thead>\n",
       "    <tr style=\"text-align: right;\">\n",
       "      <th>Truth</th>\n",
       "      <th>1</th>\n",
       "      <th>2</th>\n",
       "      <th>3</th>\n",
       "      <th>4</th>\n",
       "    </tr>\n",
       "    <tr>\n",
       "      <th>Predicted</th>\n",
       "      <th></th>\n",
       "      <th></th>\n",
       "      <th></th>\n",
       "      <th></th>\n",
       "    </tr>\n",
       "  </thead>\n",
       "  <tbody>\n",
       "    <tr>\n",
       "      <th>1</th>\n",
       "      <td>8</td>\n",
       "      <td>0</td>\n",
       "      <td>0</td>\n",
       "      <td>0</td>\n",
       "    </tr>\n",
       "    <tr>\n",
       "      <th>2</th>\n",
       "      <td>0</td>\n",
       "      <td>23</td>\n",
       "      <td>0</td>\n",
       "      <td>0</td>\n",
       "    </tr>\n",
       "    <tr>\n",
       "      <th>3</th>\n",
       "      <td>0</td>\n",
       "      <td>0</td>\n",
       "      <td>12</td>\n",
       "      <td>0</td>\n",
       "    </tr>\n",
       "    <tr>\n",
       "      <th>4</th>\n",
       "      <td>0</td>\n",
       "      <td>0</td>\n",
       "      <td>0</td>\n",
       "      <td>20</td>\n",
       "    </tr>\n",
       "  </tbody>\n",
       "</table>\n",
       "</div>"
      ],
      "text/plain": [
       "Truth      1   2   3   4\n",
       "Predicted               \n",
       "1          8   0   0   0\n",
       "2          0  23   0   0\n",
       "3          0   0  12   0\n",
       "4          0   0   0  20"
      ]
     },
     "execution_count": 43,
     "metadata": {},
     "output_type": "execute_result"
    }
   ],
   "source": [
    "khan_linear =  SVC(kernel='linear', C=0.01)\n",
    "khan_linear.fit(Khan['xtrain'], Khan['ytrain'])\n",
    "confusion_table(khan_linear.predict(Khan['xtrain']), Khan['ytrain'])"
   ]
  },
  {
   "cell_type": "markdown",
   "id": "4a568cee-8d83-44a1-9972-60564a9feb59",
   "metadata": {},
   "source": [
    "100% training accuracy, easy to find linear hyperplanes "
   ]
  },
  {
   "cell_type": "code",
   "execution_count": 44,
   "id": "115cd0c4-6e4f-441a-a451-685bb10d3de4",
   "metadata": {},
   "outputs": [
    {
     "data": {
      "text/plain": [
       "54"
      ]
     },
     "execution_count": 44,
     "metadata": {},
     "output_type": "execute_result"
    }
   ],
   "source": [
    "n_support_vectors = khan_linear.n_support_\n",
    "total_support_vectors = n_support_vectors.sum()\n",
    "total_support_vectors"
   ]
  },
  {
   "cell_type": "markdown",
   "id": "70aa1374-7077-4f80-8f61-33d80af164f4",
   "metadata": {},
   "source": [
    "54 support vectors to depend on for predicting test"
   ]
  },
  {
   "cell_type": "code",
   "execution_count": 45,
   "id": "2ea3487c-5fcd-42e0-aea6-875c5a6c5124",
   "metadata": {},
   "outputs": [
    {
     "data": {
      "text/html": [
       "<div>\n",
       "<style scoped>\n",
       "    .dataframe tbody tr th:only-of-type {\n",
       "        vertical-align: middle;\n",
       "    }\n",
       "\n",
       "    .dataframe tbody tr th {\n",
       "        vertical-align: top;\n",
       "    }\n",
       "\n",
       "    .dataframe thead th {\n",
       "        text-align: right;\n",
       "    }\n",
       "</style>\n",
       "<table border=\"1\" class=\"dataframe\">\n",
       "  <thead>\n",
       "    <tr style=\"text-align: right;\">\n",
       "      <th>Truth</th>\n",
       "      <th>1</th>\n",
       "      <th>2</th>\n",
       "      <th>3</th>\n",
       "      <th>4</th>\n",
       "    </tr>\n",
       "    <tr>\n",
       "      <th>Predicted</th>\n",
       "      <th></th>\n",
       "      <th></th>\n",
       "      <th></th>\n",
       "      <th></th>\n",
       "    </tr>\n",
       "  </thead>\n",
       "  <tbody>\n",
       "    <tr>\n",
       "      <th>1</th>\n",
       "      <td>3</td>\n",
       "      <td>0</td>\n",
       "      <td>0</td>\n",
       "      <td>0</td>\n",
       "    </tr>\n",
       "    <tr>\n",
       "      <th>2</th>\n",
       "      <td>0</td>\n",
       "      <td>6</td>\n",
       "      <td>2</td>\n",
       "      <td>0</td>\n",
       "    </tr>\n",
       "    <tr>\n",
       "      <th>3</th>\n",
       "      <td>0</td>\n",
       "      <td>0</td>\n",
       "      <td>4</td>\n",
       "      <td>0</td>\n",
       "    </tr>\n",
       "    <tr>\n",
       "      <th>4</th>\n",
       "      <td>0</td>\n",
       "      <td>0</td>\n",
       "      <td>0</td>\n",
       "      <td>5</td>\n",
       "    </tr>\n",
       "  </tbody>\n",
       "</table>\n",
       "</div>"
      ],
      "text/plain": [
       "Truth      1  2  3  4\n",
       "Predicted            \n",
       "1          3  0  0  0\n",
       "2          0  6  2  0\n",
       "3          0  0  4  0\n",
       "4          0  0  0  5"
      ]
     },
     "execution_count": 45,
     "metadata": {},
     "output_type": "execute_result"
    }
   ],
   "source": [
    "confusion_table(khan_linear.predict(Khan['xtest']), Khan['ytest'])"
   ]
  },
  {
   "cell_type": "code",
   "execution_count": 46,
   "id": "f2cf1c43-9d5a-4dd5-9ae9-70cb3ff054f4",
   "metadata": {},
   "outputs": [
    {
     "data": {
      "text/plain": [
       "0.9"
      ]
     },
     "execution_count": 46,
     "metadata": {},
     "output_type": "execute_result"
    }
   ],
   "source": [
    "np.mean(khan_linear.predict(Khan['xtest']) == Khan['ytest'])"
   ]
  },
  {
   "cell_type": "markdown",
   "id": "31d0a027-0df0-49a8-a2cd-7966e859cd18",
   "metadata": {},
   "source": [
    "90% test accuracy, which is very good"
   ]
  },
  {
   "cell_type": "markdown",
   "id": "80b0da6d-439d-4c06-a345-c6371d7c9ab0",
   "metadata": {},
   "source": [
    "Using cross-validation to select optimal $C$, considering values between 0.01 and 10"
   ]
  },
  {
   "cell_type": "code",
   "execution_count": 47,
   "id": "44104224-7460-4f1f-bf33-3bc24f4774fb",
   "metadata": {},
   "outputs": [
    {
     "data": {
      "text/plain": [
       "{'C': 0.01}"
      ]
     },
     "execution_count": 47,
     "metadata": {},
     "output_type": "execute_result"
    }
   ],
   "source": [
    "kfold = skm.KFold(5, random_state=0, shuffle=True)\n",
    "grid = skm.GridSearchCV(khan_linear, {'C': [0.01, 0.1, 0.5, 1, 5, 10]}, refit=True, cv=kfold, scoring='accuracy')\n",
    "grid.fit(Khan['xtrain'], Khan['ytrain'])\n",
    "grid.best_params_"
   ]
  },
  {
   "cell_type": "code",
   "execution_count": 48,
   "id": "e24641a5-532d-4013-b855-77c2ba354946",
   "metadata": {},
   "outputs": [
    {
     "data": {
      "text/plain": [
       "{'mean_fit_time': array([0.01486921, 0.01357942, 0.01455412, 0.01264629, 0.01513677,\n",
       "        0.01107826]),\n",
       " 'std_fit_time': array([0.01234886, 0.00478367, 0.00678149, 0.00162415, 0.00780924,\n",
       "        0.00274526]),\n",
       " 'mean_score_time': array([0.01164556, 0.01163435, 0.00609822, 0.00901084, 0.0084631 ,\n",
       "        0.01105523]),\n",
       " 'std_score_time': array([0.00633483, 0.00265277, 0.00562294, 0.00484461, 0.0068779 ,\n",
       "        0.00628109]),\n",
       " 'param_C': masked_array(data=[0.01, 0.1, 0.5, 1.0, 5.0, 10.0],\n",
       "              mask=[False, False, False, False, False, False],\n",
       "        fill_value=1e+20),\n",
       " 'params': [{'C': 0.01},\n",
       "  {'C': 0.1},\n",
       "  {'C': 0.5},\n",
       "  {'C': 1},\n",
       "  {'C': 5},\n",
       "  {'C': 10}],\n",
       " 'split0_test_score': array([1., 1., 1., 1., 1., 1.]),\n",
       " 'split1_test_score': array([1., 1., 1., 1., 1., 1.]),\n",
       " 'split2_test_score': array([1., 1., 1., 1., 1., 1.]),\n",
       " 'split3_test_score': array([1., 1., 1., 1., 1., 1.]),\n",
       " 'split4_test_score': array([1., 1., 1., 1., 1., 1.]),\n",
       " 'mean_test_score': array([1., 1., 1., 1., 1., 1.]),\n",
       " 'std_test_score': array([0., 0., 0., 0., 0., 0.]),\n",
       " 'rank_test_score': array([1, 1, 1, 1, 1, 1])}"
      ]
     },
     "execution_count": 48,
     "metadata": {},
     "output_type": "execute_result"
    }
   ],
   "source": [
    "grid.cv_results_"
   ]
  },
  {
   "cell_type": "markdown",
   "id": "c8c242ba-cea1-4906-b8b4-647f97a9879e",
   "metadata": {},
   "source": [
    "All values tested have the exact same accuracy, 100%"
   ]
  },
  {
   "cell_type": "markdown",
   "id": "45d3ac96-d413-4ef1-816c-53f725d2336d",
   "metadata": {},
   "source": [
    "This can probably be attributed to the vast amount of predictors compared to the small number of observations, making it easy for the SVC to find an exact hyperplane"
   ]
  },
  {
   "cell_type": "markdown",
   "id": "e12273d2-9462-4fe5-aee8-e55f242e6767",
   "metadata": {},
   "source": [
    "## Using radial kernel"
   ]
  },
  {
   "cell_type": "markdown",
   "id": "32e33cdb-5b8e-4858-a9a6-84bd8b37d78e",
   "metadata": {},
   "source": [
    "Equation for radial kernel: $$K(x, x') = \\exp(-\\gamma\\lVert x-x'^2\\rVert)$$"
   ]
  },
  {
   "cell_type": "markdown",
   "id": "e2ee43db-2b12-41ee-85cf-5687b090410d",
   "metadata": {},
   "source": [
    "where $\\gamma = \\dfrac{1}{2\\sigma^2}$."
   ]
  },
  {
   "cell_type": "markdown",
   "id": "3324debc-a4ae-4636-9888-a74b63e2d83c",
   "metadata": {},
   "source": [
    "Using default value for gamma ($\\gamma$)"
   ]
  },
  {
   "cell_type": "code",
   "execution_count": 49,
   "id": "66f5aa8d-d94c-4d14-8b2e-6d218f5865c0",
   "metadata": {},
   "outputs": [
    {
     "data": {
      "text/html": [
       "<div>\n",
       "<style scoped>\n",
       "    .dataframe tbody tr th:only-of-type {\n",
       "        vertical-align: middle;\n",
       "    }\n",
       "\n",
       "    .dataframe tbody tr th {\n",
       "        vertical-align: top;\n",
       "    }\n",
       "\n",
       "    .dataframe thead th {\n",
       "        text-align: right;\n",
       "    }\n",
       "</style>\n",
       "<table border=\"1\" class=\"dataframe\">\n",
       "  <thead>\n",
       "    <tr style=\"text-align: right;\">\n",
       "      <th>Truth</th>\n",
       "      <th>1</th>\n",
       "      <th>2</th>\n",
       "      <th>3</th>\n",
       "      <th>4</th>\n",
       "    </tr>\n",
       "    <tr>\n",
       "      <th>Predicted</th>\n",
       "      <th></th>\n",
       "      <th></th>\n",
       "      <th></th>\n",
       "      <th></th>\n",
       "    </tr>\n",
       "  </thead>\n",
       "  <tbody>\n",
       "    <tr>\n",
       "      <th>1</th>\n",
       "      <td>0</td>\n",
       "      <td>0</td>\n",
       "      <td>0</td>\n",
       "      <td>0</td>\n",
       "    </tr>\n",
       "    <tr>\n",
       "      <th>2</th>\n",
       "      <td>8</td>\n",
       "      <td>23</td>\n",
       "      <td>12</td>\n",
       "      <td>20</td>\n",
       "    </tr>\n",
       "    <tr>\n",
       "      <th>3</th>\n",
       "      <td>0</td>\n",
       "      <td>0</td>\n",
       "      <td>0</td>\n",
       "      <td>0</td>\n",
       "    </tr>\n",
       "    <tr>\n",
       "      <th>4</th>\n",
       "      <td>0</td>\n",
       "      <td>0</td>\n",
       "      <td>0</td>\n",
       "      <td>0</td>\n",
       "    </tr>\n",
       "  </tbody>\n",
       "</table>\n",
       "</div>"
      ],
      "text/plain": [
       "Truth      1   2   3   4\n",
       "Predicted               \n",
       "1          0   0   0   0\n",
       "2          8  23  12  20\n",
       "3          0   0   0   0\n",
       "4          0   0   0   0"
      ]
     },
     "execution_count": 49,
     "metadata": {},
     "output_type": "execute_result"
    }
   ],
   "source": [
    "khan_radial = SVC(kernel='rbf', C=0.01)\n",
    "khan_radial.fit(Khan['xtrain'], Khan['ytrain'])\n",
    "confusion_table(khan_radial.predict(Khan['xtrain']), Khan['ytrain'])"
   ]
  },
  {
   "cell_type": "code",
   "execution_count": 50,
   "id": "56d73fce-a9b6-49e4-91c3-df88a51a3e3d",
   "metadata": {},
   "outputs": [
    {
     "data": {
      "text/plain": [
       "0.36507936507936506"
      ]
     },
     "execution_count": 50,
     "metadata": {},
     "output_type": "execute_result"
    }
   ],
   "source": [
    "np.mean(khan_radial.predict(Khan['xtrain']) == Khan['ytrain'])"
   ]
  },
  {
   "cell_type": "markdown",
   "id": "70c667f9-7797-4c5c-8199-c9e635ff4996",
   "metadata": {},
   "source": [
    "64% training error, very high <br>\n",
    "Have to see how it performs on test"
   ]
  },
  {
   "cell_type": "code",
   "execution_count": 51,
   "id": "c0b2d155-109d-422d-886e-c850ae73dece",
   "metadata": {},
   "outputs": [
    {
     "data": {
      "text/html": [
       "<div>\n",
       "<style scoped>\n",
       "    .dataframe tbody tr th:only-of-type {\n",
       "        vertical-align: middle;\n",
       "    }\n",
       "\n",
       "    .dataframe tbody tr th {\n",
       "        vertical-align: top;\n",
       "    }\n",
       "\n",
       "    .dataframe thead th {\n",
       "        text-align: right;\n",
       "    }\n",
       "</style>\n",
       "<table border=\"1\" class=\"dataframe\">\n",
       "  <thead>\n",
       "    <tr style=\"text-align: right;\">\n",
       "      <th>Truth</th>\n",
       "      <th>1</th>\n",
       "      <th>2</th>\n",
       "      <th>3</th>\n",
       "      <th>4</th>\n",
       "    </tr>\n",
       "    <tr>\n",
       "      <th>Predicted</th>\n",
       "      <th></th>\n",
       "      <th></th>\n",
       "      <th></th>\n",
       "      <th></th>\n",
       "    </tr>\n",
       "  </thead>\n",
       "  <tbody>\n",
       "    <tr>\n",
       "      <th>1</th>\n",
       "      <td>0</td>\n",
       "      <td>0</td>\n",
       "      <td>0</td>\n",
       "      <td>0</td>\n",
       "    </tr>\n",
       "    <tr>\n",
       "      <th>2</th>\n",
       "      <td>3</td>\n",
       "      <td>6</td>\n",
       "      <td>6</td>\n",
       "      <td>5</td>\n",
       "    </tr>\n",
       "    <tr>\n",
       "      <th>3</th>\n",
       "      <td>0</td>\n",
       "      <td>0</td>\n",
       "      <td>0</td>\n",
       "      <td>0</td>\n",
       "    </tr>\n",
       "    <tr>\n",
       "      <th>4</th>\n",
       "      <td>0</td>\n",
       "      <td>0</td>\n",
       "      <td>0</td>\n",
       "      <td>0</td>\n",
       "    </tr>\n",
       "  </tbody>\n",
       "</table>\n",
       "</div>"
      ],
      "text/plain": [
       "Truth      1  2  3  4\n",
       "Predicted            \n",
       "1          0  0  0  0\n",
       "2          3  6  6  5\n",
       "3          0  0  0  0\n",
       "4          0  0  0  0"
      ]
     },
     "execution_count": 51,
     "metadata": {},
     "output_type": "execute_result"
    }
   ],
   "source": [
    "confusion_table(khan_radial.predict(Khan['xtest']), Khan['ytest'])"
   ]
  },
  {
   "cell_type": "code",
   "execution_count": 52,
   "id": "76685a0c-b52b-4cba-bb45-d368fd8958ee",
   "metadata": {},
   "outputs": [
    {
     "data": {
      "text/plain": [
       "0.3"
      ]
     },
     "execution_count": 52,
     "metadata": {},
     "output_type": "execute_result"
    }
   ],
   "source": [
    "np.mean(khan_radial.predict(Khan['xtest']) == Khan['ytest'])"
   ]
  },
  {
   "cell_type": "markdown",
   "id": "a5807c03-380e-4c79-a6ca-d96c3c79df85",
   "metadata": {},
   "source": [
    "Finding optimal C"
   ]
  },
  {
   "cell_type": "code",
   "execution_count": 55,
   "id": "52100bed-daea-4be9-8ad1-6a458eade096",
   "metadata": {},
   "outputs": [
    {
     "data": {
      "text/plain": [
       "{'C': 5}"
      ]
     },
     "execution_count": 55,
     "metadata": {},
     "output_type": "execute_result"
    }
   ],
   "source": [
    "kfold = skm.KFold(5, random_state=0, shuffle=True)\n",
    "grid_radial = skm.GridSearchCV(khan_radial, {'C': [0.01, 0.1, 0.5, 1, 5, 10]}, refit=True, cv=kfold, scoring='accuracy')\n",
    "grid_radial.fit(Khan['xtrain'], Khan['ytrain'])\n",
    "grid_radial.best_params_"
   ]
  },
  {
   "cell_type": "code",
   "execution_count": 56,
   "id": "d6ff9cc0-cecc-4753-8a3f-a365d81e94ec",
   "metadata": {},
   "outputs": [
    {
     "data": {
      "text/plain": [
       "{'mean_fit_time': array([0.02846694, 0.01195331, 0.01430697, 0.0160079 , 0.01380916,\n",
       "        0.01259203]),\n",
       " 'std_fit_time': array([0.01483245, 0.00452431, 0.00795887, 0.00387411, 0.00781784,\n",
       "        0.0062985 ]),\n",
       " 'mean_score_time': array([0.0300921 , 0.0082572 , 0.00779409, 0.007514  , 0.00776   ,\n",
       "        0.00939374]),\n",
       " 'std_score_time': array([0.02657239, 0.0070439 , 0.00699291, 0.0064028 , 0.00699093,\n",
       "        0.00766998]),\n",
       " 'param_C': masked_array(data=[0.01, 0.1, 0.5, 1.0, 5.0, 10.0],\n",
       "              mask=[False, False, False, False, False, False],\n",
       "        fill_value=1e+20),\n",
       " 'params': [{'C': 0.01},\n",
       "  {'C': 0.1},\n",
       "  {'C': 0.5},\n",
       "  {'C': 1},\n",
       "  {'C': 5},\n",
       "  {'C': 10}],\n",
       " 'split0_test_score': array([0.23076923, 0.23076923, 0.46153846, 1.        , 1.        ,\n",
       "        1.        ]),\n",
       " 'split1_test_score': array([0.30769231, 0.30769231, 0.46153846, 1.        , 1.        ,\n",
       "        1.        ]),\n",
       " 'split2_test_score': array([0.23076923, 0.23076923, 0.69230769, 1.        , 1.        ,\n",
       "        1.        ]),\n",
       " 'split3_test_score': array([0.33333333, 0.33333333, 0.91666667, 1.        , 1.        ,\n",
       "        1.        ]),\n",
       " 'split4_test_score': array([0.58333333, 0.58333333, 0.58333333, 0.91666667, 1.        ,\n",
       "        1.        ]),\n",
       " 'mean_test_score': array([0.33717949, 0.33717949, 0.62307692, 0.98333333, 1.        ,\n",
       "        1.        ]),\n",
       " 'std_test_score': array([0.12970913, 0.12970913, 0.17015096, 0.03333333, 0.        ,\n",
       "        0.        ]),\n",
       " 'rank_test_score': array([5, 5, 4, 3, 1, 1])}"
      ]
     },
     "execution_count": 56,
     "metadata": {},
     "output_type": "execute_result"
    }
   ],
   "source": [
    "grid_radial.cv_results_"
   ]
  },
  {
   "cell_type": "markdown",
   "id": "a1112e23-536e-49c3-a599-e3c01e118b49",
   "metadata": {},
   "source": [
    "100% CV accuracy for $C=5$"
   ]
  },
  {
   "cell_type": "code",
   "execution_count": 57,
   "id": "2c7ee9a3-90c9-4c51-9c35-174e2774fb50",
   "metadata": {},
   "outputs": [
    {
     "data": {
      "text/html": [
       "<div>\n",
       "<style scoped>\n",
       "    .dataframe tbody tr th:only-of-type {\n",
       "        vertical-align: middle;\n",
       "    }\n",
       "\n",
       "    .dataframe tbody tr th {\n",
       "        vertical-align: top;\n",
       "    }\n",
       "\n",
       "    .dataframe thead th {\n",
       "        text-align: right;\n",
       "    }\n",
       "</style>\n",
       "<table border=\"1\" class=\"dataframe\">\n",
       "  <thead>\n",
       "    <tr style=\"text-align: right;\">\n",
       "      <th>Truth</th>\n",
       "      <th>1</th>\n",
       "      <th>2</th>\n",
       "      <th>3</th>\n",
       "      <th>4</th>\n",
       "    </tr>\n",
       "    <tr>\n",
       "      <th>Predicted</th>\n",
       "      <th></th>\n",
       "      <th></th>\n",
       "      <th></th>\n",
       "      <th></th>\n",
       "    </tr>\n",
       "  </thead>\n",
       "  <tbody>\n",
       "    <tr>\n",
       "      <th>1</th>\n",
       "      <td>3</td>\n",
       "      <td>0</td>\n",
       "      <td>0</td>\n",
       "      <td>0</td>\n",
       "    </tr>\n",
       "    <tr>\n",
       "      <th>2</th>\n",
       "      <td>0</td>\n",
       "      <td>6</td>\n",
       "      <td>3</td>\n",
       "      <td>0</td>\n",
       "    </tr>\n",
       "    <tr>\n",
       "      <th>3</th>\n",
       "      <td>0</td>\n",
       "      <td>0</td>\n",
       "      <td>2</td>\n",
       "      <td>0</td>\n",
       "    </tr>\n",
       "    <tr>\n",
       "      <th>4</th>\n",
       "      <td>0</td>\n",
       "      <td>0</td>\n",
       "      <td>1</td>\n",
       "      <td>5</td>\n",
       "    </tr>\n",
       "  </tbody>\n",
       "</table>\n",
       "</div>"
      ],
      "text/plain": [
       "Truth      1  2  3  4\n",
       "Predicted            \n",
       "1          3  0  0  0\n",
       "2          0  6  3  0\n",
       "3          0  0  2  0\n",
       "4          0  0  1  5"
      ]
     },
     "execution_count": 57,
     "metadata": {},
     "output_type": "execute_result"
    }
   ],
   "source": [
    "khan_radial_best = SVC(kernel='rbf', C=5)\n",
    "khan_radial_best.fit(Khan['xtrain'], Khan['ytrain'])\n",
    "confusion_table(khan_radial_best.predict(Khan['xtest']), Khan['ytest'])"
   ]
  },
  {
   "cell_type": "code",
   "execution_count": 58,
   "id": "e69df6b9-6759-473c-9ebb-ab0c6710e8b5",
   "metadata": {},
   "outputs": [
    {
     "data": {
      "text/plain": [
       "0.8"
      ]
     },
     "execution_count": 58,
     "metadata": {},
     "output_type": "execute_result"
    }
   ],
   "source": [
    "np.mean(khan_radial_best.predict(Khan['xtest']) == Khan['ytest'])"
   ]
  },
  {
   "cell_type": "markdown",
   "id": "5e78b8bd-d79c-49c5-a3d3-5619205724f5",
   "metadata": {},
   "source": [
    "80% test accuracy when $C=5$, gamma could also be adjusted"
   ]
  },
  {
   "cell_type": "markdown",
   "id": "274cf77d-da86-463a-9d7a-662c12633205",
   "metadata": {},
   "source": [
    "## Using polynomial kernel"
   ]
  },
  {
   "cell_type": "markdown",
   "id": "774432b2-8139-40b5-8c59-eb1fc4a56b5a",
   "metadata": {},
   "source": [
    "Equation for polynomial kernel: $$K(x, x') = \\left( \\gamma \\cdot (x, x') + \\text{coef0} \\right)^\\text{degree}$$\n"
   ]
  },
  {
   "cell_type": "code",
   "execution_count": 59,
   "id": "541c8f7a-db31-412d-b97c-1bc00fcb2830",
   "metadata": {},
   "outputs": [
    {
     "data": {
      "text/html": [
       "<div>\n",
       "<style scoped>\n",
       "    .dataframe tbody tr th:only-of-type {\n",
       "        vertical-align: middle;\n",
       "    }\n",
       "\n",
       "    .dataframe tbody tr th {\n",
       "        vertical-align: top;\n",
       "    }\n",
       "\n",
       "    .dataframe thead th {\n",
       "        text-align: right;\n",
       "    }\n",
       "</style>\n",
       "<table border=\"1\" class=\"dataframe\">\n",
       "  <thead>\n",
       "    <tr style=\"text-align: right;\">\n",
       "      <th>Truth</th>\n",
       "      <th>1</th>\n",
       "      <th>2</th>\n",
       "      <th>3</th>\n",
       "      <th>4</th>\n",
       "    </tr>\n",
       "    <tr>\n",
       "      <th>Predicted</th>\n",
       "      <th></th>\n",
       "      <th></th>\n",
       "      <th></th>\n",
       "      <th></th>\n",
       "    </tr>\n",
       "  </thead>\n",
       "  <tbody>\n",
       "    <tr>\n",
       "      <th>1</th>\n",
       "      <td>0</td>\n",
       "      <td>0</td>\n",
       "      <td>0</td>\n",
       "      <td>0</td>\n",
       "    </tr>\n",
       "    <tr>\n",
       "      <th>2</th>\n",
       "      <td>8</td>\n",
       "      <td>23</td>\n",
       "      <td>12</td>\n",
       "      <td>20</td>\n",
       "    </tr>\n",
       "    <tr>\n",
       "      <th>3</th>\n",
       "      <td>0</td>\n",
       "      <td>0</td>\n",
       "      <td>0</td>\n",
       "      <td>0</td>\n",
       "    </tr>\n",
       "    <tr>\n",
       "      <th>4</th>\n",
       "      <td>0</td>\n",
       "      <td>0</td>\n",
       "      <td>0</td>\n",
       "      <td>0</td>\n",
       "    </tr>\n",
       "  </tbody>\n",
       "</table>\n",
       "</div>"
      ],
      "text/plain": [
       "Truth      1   2   3   4\n",
       "Predicted               \n",
       "1          0   0   0   0\n",
       "2          8  23  12  20\n",
       "3          0   0   0   0\n",
       "4          0   0   0   0"
      ]
     },
     "execution_count": 59,
     "metadata": {},
     "output_type": "execute_result"
    }
   ],
   "source": [
    "khan_poly = SVC(kernel='poly', degree=2, C=0.01)\n",
    "khan_poly.fit(Khan['xtrain'], Khan['ytrain'])\n",
    "confusion_table(khan_poly.predict(Khan['xtrain']), Khan['ytrain'])"
   ]
  },
  {
   "cell_type": "code",
   "execution_count": 60,
   "id": "09dbcc45-73f3-4c45-aac4-795838a28d5c",
   "metadata": {},
   "outputs": [
    {
     "data": {
      "text/plain": [
       "0.36507936507936506"
      ]
     },
     "execution_count": 60,
     "metadata": {},
     "output_type": "execute_result"
    }
   ],
   "source": [
    "np.mean(khan_poly.predict(Khan['xtrain']) == Khan['ytrain'])"
   ]
  },
  {
   "cell_type": "markdown",
   "id": "20ec8218-6111-46c4-addc-f44f09a464a2",
   "metadata": {},
   "source": [
    "36% training accuracy, not very good"
   ]
  },
  {
   "cell_type": "code",
   "execution_count": 61,
   "id": "32a0b570-597e-4f3f-9705-4718008b396b",
   "metadata": {},
   "outputs": [
    {
     "data": {
      "text/plain": [
       "0.3"
      ]
     },
     "execution_count": 61,
     "metadata": {},
     "output_type": "execute_result"
    }
   ],
   "source": [
    "np.mean(khan_poly.predict(Khan['xtest']) == Khan['ytest'])"
   ]
  },
  {
   "cell_type": "markdown",
   "id": "2e01a5a6-554a-4625-90ec-b0367b876e6f",
   "metadata": {},
   "source": [
    "30% test accuracy"
   ]
  },
  {
   "cell_type": "markdown",
   "id": "d7c70346-ce52-43c6-a332-cdcbb40a03db",
   "metadata": {},
   "source": [
    "Looking for better parameter C"
   ]
  },
  {
   "cell_type": "code",
   "execution_count": 63,
   "id": "9242e84a-7e1c-432c-9b01-b211dc9a98b6",
   "metadata": {},
   "outputs": [
    {
     "data": {
      "text/plain": [
       "{'C': 1}"
      ]
     },
     "execution_count": 63,
     "metadata": {},
     "output_type": "execute_result"
    }
   ],
   "source": [
    "grid_poly = skm.GridSearchCV(khan_poly, {'C': [0.01, 0.1, 0.5, 1, 5, 10]}, refit=True, cv=kfold, scoring='accuracy')\n",
    "grid_poly.fit(Khan['xtrain'], Khan['ytrain'])\n",
    "grid_poly.best_params_"
   ]
  },
  {
   "cell_type": "code",
   "execution_count": 64,
   "id": "795cc6f1-10d6-47cb-8e83-e70e34d4241d",
   "metadata": {},
   "outputs": [
    {
     "data": {
      "text/plain": [
       "{'mean_fit_time': array([0.02580051, 0.00850949, 0.01019621, 0.00897174, 0.01242247,\n",
       "        0.01061854]),\n",
       " 'std_fit_time': array([0.00290515, 0.00635024, 0.00677448, 0.0073434 , 0.0062151 ,\n",
       "        0.00647041]),\n",
       " 'mean_score_time': array([0.01904278, 0.0112381 , 0.01181879, 0.00849214, 0.00937157,\n",
       "        0.00827184]),\n",
       " 'std_score_time': array([0.00930432, 0.00632565, 0.0060673 , 0.00891031, 0.00765185,\n",
       "        0.00704896]),\n",
       " 'param_C': masked_array(data=[0.01, 0.1, 0.5, 1.0, 5.0, 10.0],\n",
       "              mask=[False, False, False, False, False, False],\n",
       "        fill_value=1e+20),\n",
       " 'params': [{'C': 0.01},\n",
       "  {'C': 0.1},\n",
       "  {'C': 0.5},\n",
       "  {'C': 1},\n",
       "  {'C': 5},\n",
       "  {'C': 10}],\n",
       " 'split0_test_score': array([0.23076923, 0.23076923, 0.92307692, 1.        , 1.        ,\n",
       "        1.        ]),\n",
       " 'split1_test_score': array([0.30769231, 0.30769231, 0.92307692, 1.        , 1.        ,\n",
       "        1.        ]),\n",
       " 'split2_test_score': array([0.23076923, 0.23076923, 0.92307692, 1.        , 1.        ,\n",
       "        1.        ]),\n",
       " 'split3_test_score': array([0.33333333, 0.33333333, 1.        , 1.        , 1.        ,\n",
       "        1.        ]),\n",
       " 'split4_test_score': array([0.58333333, 0.58333333, 0.83333333, 1.        , 1.        ,\n",
       "        1.        ]),\n",
       " 'mean_test_score': array([0.33717949, 0.33717949, 0.92051282, 1.        , 1.        ,\n",
       "        1.        ]),\n",
       " 'std_test_score': array([0.12970913, 0.12970913, 0.0527981 , 0.        , 0.        ,\n",
       "        0.        ]),\n",
       " 'rank_test_score': array([5, 5, 4, 1, 1, 1])}"
      ]
     },
     "execution_count": 64,
     "metadata": {},
     "output_type": "execute_result"
    }
   ],
   "source": [
    "grid_poly.cv_results_"
   ]
  },
  {
   "cell_type": "markdown",
   "id": "e9e1f1b4-9e14-495c-98eb-55bd272cc267",
   "metadata": {},
   "source": [
    "Using $C=1$"
   ]
  },
  {
   "cell_type": "code",
   "execution_count": 72,
   "id": "dcb66cc8-3f3a-4467-93fc-3a3e305cb7e5",
   "metadata": {},
   "outputs": [
    {
     "data": {
      "text/html": [
       "<div>\n",
       "<style scoped>\n",
       "    .dataframe tbody tr th:only-of-type {\n",
       "        vertical-align: middle;\n",
       "    }\n",
       "\n",
       "    .dataframe tbody tr th {\n",
       "        vertical-align: top;\n",
       "    }\n",
       "\n",
       "    .dataframe thead th {\n",
       "        text-align: right;\n",
       "    }\n",
       "</style>\n",
       "<table border=\"1\" class=\"dataframe\">\n",
       "  <thead>\n",
       "    <tr style=\"text-align: right;\">\n",
       "      <th>Truth</th>\n",
       "      <th>1</th>\n",
       "      <th>2</th>\n",
       "      <th>3</th>\n",
       "      <th>4</th>\n",
       "    </tr>\n",
       "    <tr>\n",
       "      <th>Predicted</th>\n",
       "      <th></th>\n",
       "      <th></th>\n",
       "      <th></th>\n",
       "      <th></th>\n",
       "    </tr>\n",
       "  </thead>\n",
       "  <tbody>\n",
       "    <tr>\n",
       "      <th>1</th>\n",
       "      <td>3</td>\n",
       "      <td>0</td>\n",
       "      <td>0</td>\n",
       "      <td>0</td>\n",
       "    </tr>\n",
       "    <tr>\n",
       "      <th>2</th>\n",
       "      <td>0</td>\n",
       "      <td>6</td>\n",
       "      <td>2</td>\n",
       "      <td>0</td>\n",
       "    </tr>\n",
       "    <tr>\n",
       "      <th>3</th>\n",
       "      <td>0</td>\n",
       "      <td>0</td>\n",
       "      <td>4</td>\n",
       "      <td>0</td>\n",
       "    </tr>\n",
       "    <tr>\n",
       "      <th>4</th>\n",
       "      <td>0</td>\n",
       "      <td>0</td>\n",
       "      <td>0</td>\n",
       "      <td>5</td>\n",
       "    </tr>\n",
       "  </tbody>\n",
       "</table>\n",
       "</div>"
      ],
      "text/plain": [
       "Truth      1  2  3  4\n",
       "Predicted            \n",
       "1          3  0  0  0\n",
       "2          0  6  2  0\n",
       "3          0  0  4  0\n",
       "4          0  0  0  5"
      ]
     },
     "execution_count": 72,
     "metadata": {},
     "output_type": "execute_result"
    }
   ],
   "source": [
    "khan_poly_best = SVC(kernel='poly', degree=2, C=1)\n",
    "khan_poly_best.fit(Khan['xtrain'], Khan['ytrain'])\n",
    "confusion_table(khan_poly_best.predict(Khan['xtest']), Khan['ytest'])"
   ]
  },
  {
   "cell_type": "code",
   "execution_count": 73,
   "id": "c2c02b1a-1e5e-488a-bb0d-62db99acd7a4",
   "metadata": {},
   "outputs": [
    {
     "data": {
      "text/plain": [
       "0.9"
      ]
     },
     "execution_count": 73,
     "metadata": {},
     "output_type": "execute_result"
    }
   ],
   "source": [
    "np.mean(khan_poly_best.predict(Khan['xtest']) == Khan['ytest'])"
   ]
  },
  {
   "cell_type": "markdown",
   "id": "f5b93246-bccc-4b98-9ef6-a58269db8980",
   "metadata": {},
   "source": [
    "90% test accuracy using C=1 for quadratic kernel"
   ]
  },
  {
   "cell_type": "markdown",
   "id": "9fd6f0f0-4076-4960-a1e2-4eb062bb7949",
   "metadata": {},
   "source": [
    "The best accuracy (90%) occured when a **linear kernel** was used at **$C=0.01, 0.1, 0.5, 1, 5, 10$**, and when a **quadratic kernel** was used with **$C=1, 5, 10$**."
   ]
  },
  {
   "cell_type": "markdown",
   "id": "e4358d27-00e8-4d30-8d6d-2c8020414ab3",
   "metadata": {},
   "source": [
    "A lot of the confusion tables were the same in this analysis due to the vast number of predictors vs. the super small number of observations (2308 to 83, training and test). This made it easy for the SVMs to find clear decision boundaries that were consistent"
   ]
  }
 ],
 "metadata": {
  "kernelspec": {
   "display_name": "Python 3 (ipykernel)",
   "language": "python",
   "name": "python3"
  },
  "language_info": {
   "codemirror_mode": {
    "name": "ipython",
    "version": 3
   },
   "file_extension": ".py",
   "mimetype": "text/x-python",
   "name": "python",
   "nbconvert_exporter": "python",
   "pygments_lexer": "ipython3",
   "version": "3.11.9"
  }
 },
 "nbformat": 4,
 "nbformat_minor": 5
}
